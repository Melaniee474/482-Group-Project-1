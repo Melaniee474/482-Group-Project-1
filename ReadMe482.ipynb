{
  "nbformat": 4,
  "nbformat_minor": 0,
  "metadata": {
    "colab": {
      "name": "ReadMe482",
      "provenance": [],
      "collapsed_sections": []
    },
    "kernelspec": {
      "name": "python3",
      "display_name": "Python 3"
    },
    "language_info": {
      "name": "python"
    }
  },
  "cells": [
    {
      "cell_type": "code",
      "metadata": {
        "id": "uimHDmeeb98k"
      },
      "source": [
        "## 1. Introduction \n",
        "-“Furuta Pendulum – or rotational inverted pendulum- consists of a driven arm which rotates in the\n",
        "horizontal plane and a pendulum attached to that arm which is free to rotate in the vertical plane. It was\n",
        "invented in 1992 at Tokyo Institute of Technology by Katsuhisa Furuta and his colleagues.” [1] The\n",
        "problem that the team investigates with this project is creating a test platform for control system\n",
        "algorithms -in a low-cost and streamlined fashion. In that regard, the project team is expected to create\n",
        "a mathematical model of the system with a designed control system. The deliverables are listed in later\n",
        "section.\n",
        "\n",
        "## 2. Modeling\n",
        "\n",
        "## 3. Sensor Calibration\n",
        "\n",
        "## 4. Control Design and Simulations\n",
        "\n",
        "## 5. Checklist\n",
        "-Documentations, reports and simulation files:\n",
        "\n",
        "## 6. Appendix A\n",
        "-Simulink diagram, MATLAB or other code:\n",
        "\n",
        "## 6. References\n"
      ],
      "execution_count": null,
      "outputs": []
    }
  ]
}